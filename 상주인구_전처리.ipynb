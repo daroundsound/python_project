{
 "cells": [
  {
   "cell_type": "code",
   "execution_count": null,
   "id": "ccfb6510-a621-4cce-9908-504583b1d87c",
   "metadata": {},
   "outputs": [],
   "source": [
    "import numpy as np        #넘파이 라이브러리 불러오기\n",
    "import pandas as pd        #판다스 라이브러리 불러오기"
   ]
  },
  {
   "cell_type": "code",
   "execution_count": null,
   "id": "a142c0a6-16ee-4f24-8637-2ebcbcb7ea98",
   "metadata": {
    "scrolled": true
   },
   "outputs": [],
   "source": [
    "# csv 파일 불러오기\n",
    "df = pd.read_csv(\"C:/Users/mi38m/OneDrive/바탕 화면/미영 분석/주차장/서울시 상권분석서비스(상주인구-자치구).csv\", encoding = 'cp949')\n",
    "\n",
    "# 데이터프레임 확인\n",
    "df"
   ]
  },
  {
   "cell_type": "code",
   "execution_count": null,
   "id": "54bd395c-d4ed-4e3f-8a65-1e7e920b246b",
   "metadata": {},
   "outputs": [],
   "source": [
    "# 총 상주인구수에서 10대 상주인구수를 제외한 (운전 가능한) 20대 이상 상주인구수 열 생성\n",
    "filtered_df['20대이상 상주인구수'] = filtered_df['총_상주인구_수'] - filtered_df['연령대_10_상주인구_수']"
   ]
  },
  {
   "cell_type": "code",
   "execution_count": null,
   "id": "9ef93ae4-943b-4b3b-894e-e718a31b6578",
   "metadata": {},
   "outputs": [],
   "source": [
    "# 불필요한 열 삭제\n",
    "filtered_df.drop(['총_상주인구_수', '연령대_10_상주인구_수'], axis=1, inplace=True)"
   ]
  },
  {
   "cell_type": "code",
   "execution_count": null,
   "id": "79ab767c-c1ec-4e1e-b2dd-af7088828754",
   "metadata": {},
   "outputs": [],
   "source": [
    "# 자치구명을 행으로 사용\n",
    "filtered_df.set_index('자치구_코드_명', inplace=True)"
   ]
  },
  {
   "cell_type": "code",
   "execution_count": null,
   "id": "0f39db8a-6b67-4f66-858d-a88f7a6f8df2",
   "metadata": {},
   "outputs": [],
   "source": [
    "filtered_df.index.name = '행정구역'"
   ]
  },
  {
   "cell_type": "code",
   "execution_count": null,
   "id": "a15b7394-2bbf-4123-9d84-28b32686af0d",
   "metadata": {},
   "outputs": [],
   "source": [
    "# 행(행정구역명) 기준으로 가나다순 정렬\n",
    "filtered_df = filtered_df.sort_index()"
   ]
  },
  {
   "cell_type": "code",
   "execution_count": null,
   "id": "ad93192d-8fc4-4d18-87f0-7d759034db8a",
   "metadata": {},
   "outputs": [],
   "source": [
    "filtered_df"
   ]
  },
  {
   "cell_type": "code",
   "execution_count": null,
   "id": "afa5d9c5-1b16-4383-8d1a-a484eb8930ab",
   "metadata": {},
   "outputs": [],
   "source": [
    "#새로운 csv로 저장하기\n",
    "filtered_df.to_csv(\"C:/Users/mi38m/OneDrive/바탕 화면/미영 분석/주차장/전처리완료/상주인구(구별)_전처리\", index=True, encoding = 'cp949')\n",
    "\n",
    "#index = True 는 인덱스도 저장하는 옵션, False는 인덱스는 저장하지 않도록 하는 옵션\n",
    "#데이터 프레임에 한글이 있을 경우, 인코딩으로 해줘야함. utf-8이나, cp949 중에서 utf8는 오류가 발생함"
   ]
  }
 ],
 "metadata": {
  "kernelspec": {
   "display_name": "Python 3 (ipykernel)",
   "language": "python",
   "name": "python3"
  },
  "language_info": {
   "codemirror_mode": {
    "name": "ipython",
    "version": 3
   },
   "file_extension": ".py",
   "mimetype": "text/x-python",
   "name": "python",
   "nbconvert_exporter": "python",
   "pygments_lexer": "ipython3",
   "version": "3.11.7"
  }
 },
 "nbformat": 4,
 "nbformat_minor": 5
}
