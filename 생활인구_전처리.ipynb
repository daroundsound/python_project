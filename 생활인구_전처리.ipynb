{
 "cells": [
  {
   "cell_type": "code",
   "execution_count": null,
   "id": "ccfb6510-a621-4cce-9908-504583b1d87c",
   "metadata": {},
   "outputs": [],
   "source": [
    "import numpy as np        #넘파이 라이브러리 불러오기\n",
    "import pandas as pd        #판다스 라이브러리 불러오기"
   ]
  },
  {
   "cell_type": "code",
   "execution_count": null,
   "id": "a142c0a6-16ee-4f24-8637-2ebcbcb7ea98",
   "metadata": {
    "scrolled": true
   },
   "outputs": [],
   "source": [
    "# csv 파일 불러오기\n",
    "df = pd.read_csv(\"C:/Users/mi38m/OneDrive/바탕 화면/미영 분석/주차장/raw data/자치구 단위 서울 생활인구(내국인).csv\", encoding = 'cp949')\n",
    "\n",
    "# 데이터프레임 확인\n",
    "df"
   ]
  },
  {
   "cell_type": "code",
   "execution_count": null,
   "id": "c69a15a5-6fd7-4923-a8d9-4252dc3a815d",
   "metadata": {
    "scrolled": true
   },
   "outputs": [],
   "source": [
    "# 열 확인\n",
    "df.columns"
   ]
  },
  {
   "cell_type": "code",
   "execution_count": null,
   "id": "c2ac38bb-46d0-4451-ac8d-01c0771dbc3b",
   "metadata": {},
   "outputs": [],
   "source": [
    "# 기준일 2024년 3월 16일 ~ 3월 22일까지 1주치 샘플 데이터, 20대 이상 생활인구수 계산을 위해 필요한 열만 출력\n",
    "filtered_df = df[(df['기준일ID'] >= 20240316) & (df['기준일ID'] <= 20240322)][['기준일ID', '자치구코드', '총생활인구수', '남자0세부터9세생활인구수', '남자10세부터14세생활인구수', '남자15세부터19세생활인구수',\n",
    "                                           '여자0세부터9세생활인구수', '여자10세부터14세생활인구수', '여자15세부터19세생활인구수']]"
   ]
  },
  {
   "cell_type": "code",
   "execution_count": null,
   "id": "54bd395c-d4ed-4e3f-8a65-1e7e920b246b",
   "metadata": {},
   "outputs": [],
   "source": [
    "# 총 생활인구수에서 0~19세 인구수를 제외한 (운전 가능한) 20대 이상 생활인구수 열 생성\n",
    "filtered_df['20대이상 생활인구수'] = filtered_df['총생활인구수'] - filtered_df['남자0세부터9세생활인구수'] - filtered_df['남자10세부터14세생활인구수'] - filtered_df['남자15세부터19세생활인구수']\n",
    "- filtered_df['여자0세부터9세생활인구수'] - filtered_df['여자10세부터14세생활인구수'] - filtered_df['여자15세부터19세생활인구수']"
   ]
  },
  {
   "cell_type": "code",
   "execution_count": null,
   "id": "9ef93ae4-943b-4b3b-894e-e718a31b6578",
   "metadata": {},
   "outputs": [],
   "source": [
    "# 불필요한 열 삭제\n",
    "filtered_df.drop(['총생활인구수', '남자0세부터9세생활인구수', '남자10세부터14세생활인구수', '남자15세부터19세생활인구수',\n",
    "                                           '여자0세부터9세생활인구수', '여자10세부터14세생활인구수', '여자15세부터19세생활인구수'], axis=1, inplace=True)"
   ]
  },
  {
   "cell_type": "code",
   "execution_count": null,
   "id": "0e238a5e-5ec9-4dce-9a3e-9b2520343191",
   "metadata": {},
   "outputs": [],
   "source": [
    "# 20대이상 생활인구수를 정수로 변환\n",
    "filtered_df['20대이상 생활인구수'] = filtered_df['20대이상 생활인구수'].astype(int)"
   ]
  },
  {
   "cell_type": "code",
   "execution_count": null,
   "id": "d7d14a48-b996-4766-96d6-f31c0c5a6c6b",
   "metadata": {},
   "outputs": [],
   "source": [
    "# 자치구코드별 20대이상 생활인구수 합계 구하기\n",
    "grouped_df = filtered_df.groupby('자치구코드')['20대이상 생활인구수'].sum().reset_index()  # .reset_index()를 통해 데이터프레임으로"
   ]
  },
  {
   "cell_type": "code",
   "execution_count": null,
   "id": "b42c01ea-56e1-4aa4-a91b-8fe427649365",
   "metadata": {},
   "outputs": [],
   "source": [
    "# 20대이상 일평균 생활인구수 계산\n",
    "grouped_df['20대이상_일평균 생활인구수'] = grouped_df['20대이상 생활인구수'] / 7"
   ]
  },
  {
   "cell_type": "code",
   "execution_count": null,
   "id": "6e424444-d365-4319-9003-3b0594d0d0ed",
   "metadata": {},
   "outputs": [],
   "source": [
    "# 20대이상 일평균 생활인구수를 정수로 변환\n",
    "grouped_df['20대이상_일평균 생활인구수'] = grouped_df['20대이상_일평균 생활인구수'].astype(int)"
   ]
  },
  {
   "cell_type": "code",
   "execution_count": null,
   "id": "525da863-037c-43c6-b932-4f62373b6abe",
   "metadata": {},
   "outputs": [],
   "source": [
    "# 자치구코드를 행정구역명으로 변경하기 위한 딕셔너리\n",
    "sigungu_change = dict(zip([11110, 11140, 11170, 11200, 11215, 11230, 11260, 11290,\n",
    "                           11305, 11320, 11350, 11380, 11410, 11440, 11470, 11500,\n",
    "                           11530, 11545, 11560, 11590, 11620, 11650, 11680, 11710, 11740],\n",
    "                          ['종로구', '중구', '용산구', '성동구', '광진구', '동대문구', '중랑구', '성북구',\n",
    "                           '강북구', '도봉구', '노원구', '은평구', '서대문구', '마포구', '양천구', '강서구',\n",
    "                           '구로구', '금천구', '영등포구', '동작구', '관악구', '서초구', '강남구', '송파구', '강동구']))"
   ]
  },
  {
   "cell_type": "code",
   "execution_count": null,
   "id": "913c8f39-2367-4fce-b912-aea3471f409e",
   "metadata": {},
   "outputs": [],
   "source": [
    "# 자치구코드를 행정구역명으로 변경\n",
    "grouped_df['자치구코드'] = grouped_df['자치구코드'].replace(sigungu_change)"
   ]
  },
  {
   "cell_type": "code",
   "execution_count": null,
   "id": "16c0a080-da53-4e36-92c0-a53f6df8bea8",
   "metadata": {},
   "outputs": [],
   "source": [
    "# 열 이름 변경\n",
    "grouped_df.rename(columns={'20대이상 생활인구수': '20대이상_생활인구수_1주합계'}, inplace=True)"
   ]
  },
  {
   "cell_type": "code",
   "execution_count": null,
   "id": "04f5a617-9929-4da6-ab6d-69e40c0fd5c7",
   "metadata": {},
   "outputs": [],
   "source": [
    "grouped_df.rename(columns={'20대이상_일평균 생활인구수': '20대이상_생활인구수_하루평균'}, inplace=True)"
   ]
  },
  {
   "cell_type": "code",
   "execution_count": null,
   "id": "79ab767c-c1ec-4e1e-b2dd-af7088828754",
   "metadata": {},
   "outputs": [],
   "source": [
    "# 자치구코드(행정구역명)를 행으로 사용\n",
    "grouped_df.set_index('자치구코드', inplace=True)"
   ]
  },
  {
   "cell_type": "code",
   "execution_count": null,
   "id": "0f39db8a-6b67-4f66-858d-a88f7a6f8df2",
   "metadata": {},
   "outputs": [],
   "source": [
    "# 행 이름을 행정구역으로\n",
    "grouped_df.index.name = '행정구역'"
   ]
  },
  {
   "cell_type": "code",
   "execution_count": null,
   "id": "a15b7394-2bbf-4123-9d84-28b32686af0d",
   "metadata": {},
   "outputs": [],
   "source": [
    "# 행(행정구역명) 기준으로 가나다순 정렬\n",
    "grouped_df = grouped_df.sort_index()"
   ]
  },
  {
   "cell_type": "code",
   "execution_count": null,
   "id": "afa5d9c5-1b16-4383-8d1a-a484eb8930ab",
   "metadata": {},
   "outputs": [],
   "source": [
    "#새로운 csv로 저장하기\n",
    "grouped_df.to_csv(\"C:/Users/mi38m/OneDrive/바탕 화면/미영 분석/주차장/전처리완료/생활인구_1주샘플_전처리\", index=True, encoding = 'cp949')\n",
    "\n",
    "#index = True 는 인덱스도 저장하는 옵션, False는 인덱스는 저장하지 않도록 하는 옵션\n",
    "#데이터 프레임에 한글이 있을 경우, 인코딩으로 해줘야함. utf-8이나, cp949 중에서 utf8는 오류가 발생함"
   ]
  }
 ],
 "metadata": {
  "kernelspec": {
   "display_name": "Python 3 (ipykernel)",
   "language": "python",
   "name": "python3"
  },
  "language_info": {
   "codemirror_mode": {
    "name": "ipython",
    "version": 3
   },
   "file_extension": ".py",
   "mimetype": "text/x-python",
   "name": "python",
   "nbconvert_exporter": "python",
   "pygments_lexer": "ipython3",
   "version": "3.11.7"
  }
 },
 "nbformat": 4,
 "nbformat_minor": 5
}
