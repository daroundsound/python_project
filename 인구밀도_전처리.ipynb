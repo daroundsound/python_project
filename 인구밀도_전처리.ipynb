{
 "cells": [
  {
   "cell_type": "code",
   "execution_count": null,
   "id": "ccfb6510-a621-4cce-9908-504583b1d87c",
   "metadata": {},
   "outputs": [],
   "source": [
    "import numpy as np        #넘파이 라이브러리 불러오기\n",
    "import pandas as pd        #판다스 라이브러리 불러오기"
   ]
  },
  {
   "cell_type": "code",
   "execution_count": null,
   "id": "a142c0a6-16ee-4f24-8637-2ebcbcb7ea98",
   "metadata": {
    "scrolled": true
   },
   "outputs": [],
   "source": [
    "# csv 파일 불러오기\n",
    "df = pd.read_csv(\"C:/Users/mi38m/OneDrive/바탕 화면/미영 분석/주차장/서울시_인구밀도_자치구별.csv\")\n",
    "\n",
    "# 데이터프레임 확인\n",
    "df"
   ]
  },
  {
   "cell_type": "code",
   "execution_count": null,
   "id": "c69a15a5-6fd7-4923-a8d9-4252dc3a815d",
   "metadata": {
    "scrolled": true
   },
   "outputs": [],
   "source": [
    "df.columns"
   ]
  },
  {
   "cell_type": "code",
   "execution_count": null,
   "id": "c2ac38bb-46d0-4451-ac8d-01c0771dbc3b",
   "metadata": {},
   "outputs": [],
   "source": [
    "# 자치구, 인구, 면적, 인구밀도만 출력\n",
    "filtered_df = df[['동별(2)', '2023', '2023.1', '2023.2']]"
   ]
  },
  {
   "cell_type": "code",
   "execution_count": null,
   "id": "3088462b-2723-43e3-aa22-a847bb5700a7",
   "metadata": {},
   "outputs": [],
   "source": [
    "# 첫 번째 행을 열 이름으로\n",
    "filtered_df.columns = filtered_df.iloc[0]"
   ]
  },
  {
   "cell_type": "code",
   "execution_count": null,
   "id": "b6542648-6218-4856-92bb-ab37b0999915",
   "metadata": {},
   "outputs": [],
   "source": [
    "# 첫 번째 행과 두 번쨰 행(소계) 삭제\n",
    "filtered_df = filtered_df[2:]"
   ]
  },
  {
   "cell_type": "code",
   "execution_count": null,
   "id": "344f2aa8-60da-4564-8dcf-aaade7c0d075",
   "metadata": {},
   "outputs": [],
   "source": [
    "# 동별(2) 열을 행으로 사용\n",
    "filtered_df.set_index('동별(2)', inplace=True)"
   ]
  },
  {
   "cell_type": "code",
   "execution_count": null,
   "id": "42bcffe1-9db0-4b88-ae74-e5d505f954ae",
   "metadata": {},
   "outputs": [],
   "source": [
    "filtered_df.index.name = '행정구역'"
   ]
  },
  {
   "cell_type": "code",
   "execution_count": null,
   "id": "2319788e-2397-4dc2-b94c-619b7772cbb4",
   "metadata": {},
   "outputs": [],
   "source": [
    "# 행(행정구역명) 기준으로 가나다순 정렬\n",
    "filtered_df = filtered_df.sort_index()"
   ]
  },
  {
   "cell_type": "code",
   "execution_count": null,
   "id": "205e5c41-cc45-4f46-b358-fc15fd525cf1",
   "metadata": {},
   "outputs": [],
   "source": [
    "filtered_df"
   ]
  },
  {
   "cell_type": "code",
   "execution_count": null,
   "id": "afa5d9c5-1b16-4383-8d1a-a484eb8930ab",
   "metadata": {},
   "outputs": [],
   "source": [
    "#새로운 csv로 저장하기\n",
    "filtered_df.to_csv(\"C:/Users/mi38m/OneDrive/바탕 화면/미영 분석/주차장/전처리완료/인구밀도_전처리\", index=True, encoding = 'cp949')\n",
    "\n",
    "#index = True 는 인덱스도 저장하는 옵션, False는 인덱스는 저장하지 않도록 하는 옵션\n",
    "#데이터 프레임에 한글이 있을 경우, 인코딩으로 해줘야함. utf-8이나, cp949 중에서 utf8는 오류가 발생함"
   ]
  }
 ],
 "metadata": {
  "kernelspec": {
   "display_name": "Python 3 (ipykernel)",
   "language": "python",
   "name": "python3"
  },
  "language_info": {
   "codemirror_mode": {
    "name": "ipython",
    "version": 3
   },
   "file_extension": ".py",
   "mimetype": "text/x-python",
   "name": "python",
   "nbconvert_exporter": "python",
   "pygments_lexer": "ipython3",
   "version": "3.11.7"
  }
 },
 "nbformat": 4,
 "nbformat_minor": 5
}
