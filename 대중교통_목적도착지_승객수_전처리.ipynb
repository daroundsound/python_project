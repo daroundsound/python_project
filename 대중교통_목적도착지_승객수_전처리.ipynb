{
 "cells": [
  {
   "cell_type": "code",
   "execution_count": null,
   "id": "ccfb6510-a621-4cce-9908-504583b1d87c",
   "metadata": {},
   "outputs": [],
   "source": [
    "import numpy as np        #넘파이 라이브러리 불러오기\n",
    "import pandas as pd        #판다스 라이브러리 불러오기"
   ]
  },
  {
   "cell_type": "code",
   "execution_count": null,
   "id": "a142c0a6-16ee-4f24-8637-2ebcbcb7ea98",
   "metadata": {
    "scrolled": true
   },
   "outputs": [],
   "source": [
    "# csv 파일 불러오기\n",
    "df1 = pd.read_csv(\"C:/Users/mi38m/OneDrive/바탕 화면/미영 분석/주차장/raw data/대중교통/tpss_emd_odtc_20240316.csv\", encoding = 'cp949')\n",
    "df2 = pd.read_csv(\"C:/Users/mi38m/OneDrive/바탕 화면/미영 분석/주차장/raw data/대중교통/tpss_emd_odtc_20240317.csv\", encoding = 'cp949')\n",
    "df3 = pd.read_csv(\"C:/Users/mi38m/OneDrive/바탕 화면/미영 분석/주차장/raw data/대중교통/tpss_emd_odtc_20240318.csv\", encoding = 'cp949')\n",
    "df4 = pd.read_csv(\"C:/Users/mi38m/OneDrive/바탕 화면/미영 분석/주차장/raw data/대중교통/tpss_emd_odtc_20240319.csv\", encoding = 'cp949')\n",
    "df5 = pd.read_csv(\"C:/Users/mi38m/OneDrive/바탕 화면/미영 분석/주차장/raw data/대중교통/tpss_emd_odtc_20240320.csv\", encoding = 'cp949')\n",
    "df6 = pd.read_csv(\"C:/Users/mi38m/OneDrive/바탕 화면/미영 분석/주차장/raw data/대중교통/tpss_emd_odtc_20240321.csv\", encoding = 'cp949')\n",
    "df7 = pd.read_csv(\"C:/Users/mi38m/OneDrive/바탕 화면/미영 분석/주차장/raw data/대중교통/tpss_emd_odtc_20240322.csv\", encoding = 'cp949')"
   ]
  },
  {
   "cell_type": "code",
   "execution_count": null,
   "id": "c69a15a5-6fd7-4923-a8d9-4252dc3a815d",
   "metadata": {
    "scrolled": true
   },
   "outputs": [],
   "source": [
    "# 열 확인\n",
    "df1.columns"
   ]
  },
  {
   "cell_type": "code",
   "execution_count": null,
   "id": "b5a62b86-5a73-4657-93ac-ccea83d65b45",
   "metadata": {},
   "outputs": [],
   "source": [
    "# 결합 편의를 위해 dfs 리스트 생성\n",
    "dfs = [df1, df2, df3, df4, df5, df6, df7]"
   ]
  },
  {
   "cell_type": "code",
   "execution_count": null,
   "id": "ff41323d-63e6-4772-913c-6c2622548991",
   "metadata": {},
   "outputs": [],
   "source": [
    "# 7개 파일 수직으로 결합\n",
    "merged_df = pd.concat(dfs, ignore_index=True)"
   ]
  },
  {
   "cell_type": "code",
   "execution_count": null,
   "id": "262714b3-ef57-461c-806e-e9114294d9b8",
   "metadata": {},
   "outputs": [],
   "source": [
    "merged_df"
   ]
  },
  {
   "cell_type": "code",
   "execution_count": null,
   "id": "cafff8a0-72aa-4f65-9727-6ad8c8c2858d",
   "metadata": {},
   "outputs": [],
   "source": [
    "# 출력할 자치구 명칭 리스트\n",
    "target = ['종로구', '중구', '용산구', '성동구', '광진구', '동대문구', '중랑구', '성북구',\n",
    "                    '강북구', '도봉구', '노원구', '은평구', '서대문구', '마포구', '양천구', '강서구',\n",
    "                    '구로구', '금천구', '영등포구', '동작구', '관악구', '서초구', '강남구', '송파구', '강동구']"
   ]
  },
  {
   "cell_type": "code",
   "execution_count": null,
   "id": "a7368cad-5793-4502-9126-7799ef422f85",
   "metadata": {},
   "outputs": [],
   "source": [
    "# 조건에 해당하는 자치구명을 갖는 행만 필터링\n",
    "filtered_df = merged_df[merged_df['종료_자치구_명칭'].isin(target)]"
   ]
  },
  {
   "cell_type": "code",
   "execution_count": null,
   "id": "9ef93ae4-943b-4b3b-894e-e718a31b6578",
   "metadata": {},
   "outputs": [],
   "source": [
    "# 불필요한 열 삭제\n",
    "filtered_df.drop(['시작_자치구_명칭', '시작_행정동_명칭', '종료_행정동_명칭'], axis=1, inplace=True)"
   ]
  },
  {
   "cell_type": "code",
   "execution_count": null,
   "id": "1b56e133-329d-400f-b6c7-65ca181b5a9f",
   "metadata": {},
   "outputs": [],
   "source": [
    "# 자치구 기준으로 전체 승객수 합계 구하기\n",
    "grouped_df = filtered_df.groupby('종료_자치구_명칭')['전체_승객_수'].sum().reset_index()"
   ]
  },
  {
   "cell_type": "code",
   "execution_count": null,
   "id": "49673fc4-6611-41cf-9fad-45fcc00dc704",
   "metadata": {},
   "outputs": [],
   "source": [
    "# 하루평균 승객수 구하기\n",
    "grouped_df['목적도착지_승객수_하루평균'] = grouped_df['전체_승객_수'] / 7"
   ]
  },
  {
   "cell_type": "code",
   "execution_count": null,
   "id": "0e238a5e-5ec9-4dce-9a3e-9b2520343191",
   "metadata": {},
   "outputs": [],
   "source": [
    "# 하루평균 승객수를 정수로 변환\n",
    "grouped_df['목적도착지_승객수_하루평균'] = grouped_df['목적도착지_승객수_하루평균'].astype(int)"
   ]
  },
  {
   "cell_type": "code",
   "execution_count": null,
   "id": "79ab767c-c1ec-4e1e-b2dd-af7088828754",
   "metadata": {},
   "outputs": [],
   "source": [
    "# 자치구코드(행정구역명)를 행으로 사용\n",
    "grouped_df.set_index('종료_자치구_명칭', inplace=True)"
   ]
  },
  {
   "cell_type": "code",
   "execution_count": null,
   "id": "0f39db8a-6b67-4f66-858d-a88f7a6f8df2",
   "metadata": {},
   "outputs": [],
   "source": [
    "# 행 이름을 구별구분으로(전처리 데이터셋 결합을 위해)\n",
    "grouped_df.index.name = '구별구분'"
   ]
  },
  {
   "cell_type": "code",
   "execution_count": null,
   "id": "473f3d9a-1c31-42b4-afc1-60b281c8b753",
   "metadata": {},
   "outputs": [],
   "source": [
    "# 전체_승객_수 열이름 변경\n",
    "grouped_df.rename(columns = {'전체_승객_수' : '목적도착지_승객수_1주합계'}, inplace = True)"
   ]
  },
  {
   "cell_type": "code",
   "execution_count": null,
   "id": "a15b7394-2bbf-4123-9d84-28b32686af0d",
   "metadata": {},
   "outputs": [],
   "source": [
    "# 행(행정구역명) 기준으로 가나다순 정렬\n",
    "grouped_df = grouped_df.sort_index()"
   ]
  },
  {
   "cell_type": "code",
   "execution_count": null,
   "id": "ad93192d-8fc4-4d18-87f0-7d759034db8a",
   "metadata": {},
   "outputs": [],
   "source": [
    "grouped_df"
   ]
  },
  {
   "cell_type": "code",
   "execution_count": null,
   "id": "afa5d9c5-1b16-4383-8d1a-a484eb8930ab",
   "metadata": {},
   "outputs": [],
   "source": [
    "#새로운 csv로 저장하기\n",
    "grouped_df.to_csv(\"C:/Users/mi38m/OneDrive/바탕 화면/미영 분석/주차장/전처리완료/대중교통_목적도착지_승객수_전처리\", index=True, encoding = 'cp949')\n",
    "\n",
    "#index = True 는 인덱스도 저장하는 옵션, False는 인덱스는 저장하지 않도록 하는 옵션\n",
    "#데이터 프레임에 한글이 있을 경우, 인코딩으로 해줘야함. utf-8이나, cp949 중에서 utf8는 오류가 발생함"
   ]
  }
 ],
 "metadata": {
  "kernelspec": {
   "display_name": "Python 3 (ipykernel)",
   "language": "python",
   "name": "python3"
  },
  "language_info": {
   "codemirror_mode": {
    "name": "ipython",
    "version": 3
   },
   "file_extension": ".py",
   "mimetype": "text/x-python",
   "name": "python",
   "nbconvert_exporter": "python",
   "pygments_lexer": "ipython3",
   "version": "3.11.7"
  }
 },
 "nbformat": 4,
 "nbformat_minor": 5
}
